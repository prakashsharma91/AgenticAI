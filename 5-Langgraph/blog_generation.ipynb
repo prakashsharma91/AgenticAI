{
 "cells": [
  {
   "cell_type": "code",
   "execution_count": 1,
   "metadata": {},
   "outputs": [],
   "source": [
    "import os\n",
    "from dotenv import load_dotenv\n",
    "load_dotenv()\n",
    "\n",
    "os.environ[\"GROQ_API_KEY\"]=os.getenv(\"GROQ_API_KEY\")\n",
    "os.environ[\"OPENAI_API_KEY\"]=os.getenv(\"OPENAI_API_KEY\")"
   ]
  },
  {
   "cell_type": "code",
   "execution_count": 2,
   "metadata": {},
   "outputs": [],
   "source": [
    "from langchain_groq import ChatGroq\n",
    "llm=ChatGroq(model=\"Gemma2-9b-It\")"
   ]
  },
  {
   "cell_type": "code",
   "execution_count": 8,
   "metadata": {},
   "outputs": [],
   "source": [
    "from langchain_core.messages import HumanMessage, SystemMessage\n",
    "from langgraph.graph import MessagesState\n",
    "\n",
    "# System message\n",
    "sys_msg = SystemMessage(content=\"You are a helpful assistant tasked with genering title of approx 25 character.\")\n",
    "\n",
    "# System message\n",
    "sys_msg = SystemMessage(content=\"You are a helpful assistant tasked with writing blogs with 500 words with not more than 3 paragaph.\")\n",
    "\n",
    "\n",
    "def title_generate(state:MessagesState):\n",
    "    return {\"messages\":[llm.invoke([sys_msg] + state[\"messages\"])]}\n",
    "\n",
    "def content_generate(state:MessagesState):\n",
    "    return {\"messages\":[llm.invoke([sys_msg] + state[\"messages\"])]}"
   ]
  },
  {
   "cell_type": "code",
   "execution_count": 9,
   "metadata": {},
   "outputs": [
    {
     "data": {
      "image/png": "[encoded data removed]",
      "text/plain": [
       "<IPython.core.display.Image object>"
      ]
     },
     "metadata": {},
     "output_type": "display_data"
    }
   ],
   "source": [
    "\n",
    "from langgraph.graph import START, StateGraph, END\n",
    "from IPython.display import Image, display\n",
    "\n",
    "builder=StateGraph(MessagesState)\n",
    "\n",
    "## Define the node\n",
    "builder.add_node(\"title_generate\",title_generate)\n",
    "builder.add_node(\"content_generate\",content_generate)\n",
    "\n",
    "## Define the edges\n",
    "builder.add_edge(START,\"title_generate\")\n",
    "builder.add_edge(\"title_generate\",\"content_generate\")\n",
    "\n",
    "## Add the final node\n",
    "builder.add_edge(\"content_generate\", END)\n",
    "\n",
    "react_graph=builder.compile()\n",
    "\n",
    "# Show\n",
    "display(Image(react_graph.get_graph().draw_mermaid_png()))"
   ]
  },
  {
   "cell_type": "code",
   "execution_count": 10,
   "metadata": {},
   "outputs": [],
   "source": [
    "messages = [HumanMessage(content=\"Generate a blog on how AI is dangerous for humanity.\")]\n",
    "messages = react_graph.invoke({\"messages\": messages})"
   ]
  },
  {
   "cell_type": "code",
   "execution_count": 11,
   "metadata": {},
   "outputs": [
    {
     "name": "stdout",
     "output_type": "stream",
     "text": [
      "================================\u001b[1m Human Message \u001b[0m=================================\n",
      "\n",
      "Generate a blog on how AI is dangerous for humanity.\n",
      "==================================\u001b[1m Ai Message \u001b[0m==================================\n",
      "\n",
      "## The Looming Shadow of Artificial Intelligence: Is Progress Paving the Path to Peril?\n",
      "\n",
      "Artificial intelligence has undoubtedly revolutionized our world, automating tasks, providing insights, and pushing the boundaries of what's possible.  From self-driving cars to personalized medicine, AI promises a future brimming with convenience and advancement. However, beneath this gleaming surface lurks a chilling possibility: the potential for AI to become a danger to humanity. This isn't science fiction; it's a real and pressing concern that demands our attention.  \n",
      "\n",
      "One of the most significant dangers lies in the potential for AI to surpass human intelligence. While the idea of superintelligent machines might seem like a distant fantasy, experts warn that this could become a reality sooner than we think. A superintelligent AI, driven by goals misaligned with our own, could pose an existential threat, potentially manipulating systems, controlling resources, or even viewing humans as a threat to be eliminated.  Furthermore, the increasing reliance on AI in critical sectors like healthcare, finance, and defense raises concerns about algorithmic bias and unforeseen consequences. An AI system trained on biased data could perpetuate and even amplify existing societal inequalities, leading to discriminatory outcomes.  Moreover, the lack of transparency in many AI algorithms makes it difficult to understand how they arrive at decisions, raising ethical dilemmas and potentially hindering our ability to control their actions.\n",
      "\n",
      "The future of AI hinges on our ability to develop and deploy it responsibly. This requires a multi-faceted approach, including robust ethical guidelines, stringent safety protocols, and ongoing public discourse. We must prioritize human oversight and control, ensuring that AI remains a tool that empowers us, not one that threatens our existence.  Ignoring the potential dangers of AI is not an option. It's time to engage in a critical and open conversation about the future of this powerful technology and work towards shaping a future where AI benefits all of humanity.\n",
      "==================================\u001b[1m Ai Message \u001b[0m==================================\n"
     ]
    }
   ],
   "source": [
    "for m in messages['messages']:\n",
    "    m.pretty_print()"
   ]
  }
 ],
 "metadata": {
  "kernelspec": {
   "display_name": "Python 3",
   "language": "python",
   "name": "python3"
  },
  "language_info": {
   "codemirror_mode": {
    "name": "ipython",
    "version": 3
   },
   "file_extension": ".py",
   "mimetype": "text/x-python",
   "name": "python",
   "nbconvert_exporter": "python",
   "pygments_lexer": "ipython3",
   "version": "3.12.8"
  }
 },
 "nbformat": 4,
 "nbformat_minor": 2
}
